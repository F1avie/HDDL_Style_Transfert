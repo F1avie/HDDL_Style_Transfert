{
 "cells": [
  {
   "cell_type": "markdown",
   "metadata": {},
   "source": [
    "# Style Transfer\n",
    "\n",
    "#### Project INSA HDDL \n",
    "#### Minh Hai Nguyen, Cam Thanh Ha Le, Julie Tryoen, Flavie Kolb \n"
   ]
  },
  {
   "cell_type": "markdown",
   "metadata": {},
   "source": [
    "This neural algorithm renders a content image in the style of another image, achieving so-called style transfer. \n",
    "It relies on a style transfer network which takes a content image $c$ and a style image $s$ as inputs, and synthesizes an output image that recombines the content of the image $c$ with the style of the image $s$. \n",
    "\n",
    "The architecture network is an encoder-decoder with an Adaptive Instance Normalization layer in between."
   ]
  },
  {
   "cell_type": "markdown",
   "metadata": {},
   "source": [
    "## Libraries importation"
   ]
  },
  {
   "cell_type": "code",
   "execution_count": 87,
   "metadata": {},
   "outputs": [
    {
     "name": "stdout",
     "output_type": "stream",
     "text": [
      "The history saving thread hit an unexpected error (OperationalError('disk I/O error')).History will not be written to the database.\n"
     ]
    }
   ],
   "source": [
    "from pathlib import Path\n",
    "import os\n",
    "\n",
    "import torch\n",
    "import torch.nn as nn\n",
    "import torch.nn.functional as F\n",
    "import torch.utils.data as data\n",
    "\n",
    "import numpy as np\n",
    "import matplotlib.pyplot as plt\n",
    "import torchvision\n",
    "from torchvision import transforms\n",
    "from torchvision.utils import save_image\n",
    "from PIL import Image \n",
    "Image.MAX_IMAGE_PIXELS = 10000000000 \n",
    "from PIL import ImageFile\n",
    "ImageFile.LOAD_TRUNCATED_IMAGES = True\n",
    "\n",
    "from tqdm import tqdm"
   ]
  },
  {
   "cell_type": "code",
   "execution_count": 2,
   "metadata": {},
   "outputs": [],
   "source": [
    "device = torch.device(\"cuda\" if torch.cuda.is_available() else \"cpu\")"
   ]
  },
  {
   "cell_type": "markdown",
   "metadata": {},
   "source": []
  },
  {
   "cell_type": "markdown",
   "metadata": {},
   "source": [
    "## Style transfer architecture"
   ]
  },
  {
   "cell_type": "markdown",
   "metadata": {},
   "source": [
    "First, we take a look at our general architecture of style transfer model.\n",
    "\n",
    "Our style transfer network $T$ takes a content image $c$ and a style image $s$ as inputs, and return an output image which combines the content of $c$ and the style of $s$.\n",
    "\n",
    "We adopt a simple encoder-decoder architecture, where the encoder f is fixed to the first few layers (up to relu4 1) of a pre-trained VGG-19. After encoding the content and style images in feature space, we pass through an AdaIN:\n",
    "$$ t = AdaIn(f(c),f(s))$$\n",
    "\n",
    "The decoder $g$ is trained to map $t$ back to the image space, generating the stylized image $T(c, s)$ as output:\n",
    "$$ T(c,s) = g(t)$$\n",
    "\n",
    "**Architecture:** A drawing of the Style Transfer Model is given below. "
   ]
  },
  {
   "cell_type": "markdown",
   "metadata": {},
   "source": [
    "![Link](architecture.jpg)"
   ]
  },
  {
   "cell_type": "markdown",
   "metadata": {},
   "source": [
    "## VGG-19 as the Encoder"
   ]
  },
  {
   "cell_type": "markdown",
   "metadata": {},
   "source": [
    "A pretrained VGG-19, denoted by $f$, is first used as an encoder to extract the features of the content image $c$ and the style image $s$, namely $f(c)$ and $f(s)$. Below is the updated version of VGG19 provided by Pytorch. In fact, only the first layers up to relu4_1 will be used."
   ]
  },
  {
   "cell_type": "code",
   "execution_count": 3,
   "metadata": {},
   "outputs": [],
   "source": [
    "# The updated version of VGG19 provided by PyTorch\n",
    "encoder = torchvision.models.vgg19(weights = \"VGG19_Weights.DEFAULT\", progress = True).features\n",
    "\n",
    "# The encoder available at https://github.com/naoto0804/pytorch-AdaIN\n",
    "# encoder = nn.Sequential(\n",
    "#     nn.Conv2d(3, 3, (1, 1)),\n",
    "#     nn.ReflectionPad2d((1, 1, 1, 1)),\n",
    "#     nn.Conv2d(3, 64, (3, 3)),\n",
    "#     nn.ReLU(),  # relu1-1\n",
    "#     nn.ReflectionPad2d((1, 1, 1, 1)),\n",
    "#     nn.Conv2d(64, 64, (3, 3)),\n",
    "#     nn.ReLU(),  # relu1-2\n",
    "#     nn.MaxPool2d((2, 2), (2, 2), (0, 0), ceil_mode=True),\n",
    "#     nn.ReflectionPad2d((1, 1, 1, 1)),\n",
    "#     nn.Conv2d(64, 128, (3, 3)),\n",
    "#     nn.ReLU(),  # relu2-1\n",
    "#     nn.ReflectionPad2d((1, 1, 1, 1)),\n",
    "#     nn.Conv2d(128, 128, (3, 3)),\n",
    "#     nn.ReLU(),  # relu2-2\n",
    "#     nn.MaxPool2d((2, 2), (2, 2), (0, 0), ceil_mode=True),\n",
    "#     nn.ReflectionPad2d((1, 1, 1, 1)),\n",
    "#     nn.Conv2d(128, 256, (3, 3)),\n",
    "#     nn.ReLU(),  # relu3-1\n",
    "#     nn.ReflectionPad2d((1, 1, 1, 1)),\n",
    "#     nn.Conv2d(256, 256, (3, 3)),\n",
    "#     nn.ReLU(),  # relu3-2\n",
    "#     nn.ReflectionPad2d((1, 1, 1, 1)),\n",
    "#     nn.Conv2d(256, 256, (3, 3)),\n",
    "#     nn.ReLU(),  # relu3-3\n",
    "#     nn.ReflectionPad2d((1, 1, 1, 1)),\n",
    "#     nn.Conv2d(256, 256, (3, 3)),\n",
    "#     nn.ReLU(),  # relu3-4\n",
    "#     nn.MaxPool2d((2, 2), (2, 2), (0, 0), ceil_mode=True),\n",
    "#     nn.ReflectionPad2d((1, 1, 1, 1)),\n",
    "#     nn.Conv2d(256, 512, (3, 3)),\n",
    "#     nn.ReLU(),  # relu4-1, this is the last layer used\n",
    "#     nn.ReflectionPad2d((1, 1, 1, 1)),\n",
    "#     nn.Conv2d(512, 512, (3, 3)),\n",
    "#     nn.ReLU(),  # relu4-2\n",
    "#     nn.ReflectionPad2d((1, 1, 1, 1)),\n",
    "#     nn.Conv2d(512, 512, (3, 3)),\n",
    "#     nn.ReLU(),  # relu4-3\n",
    "#     nn.ReflectionPad2d((1, 1, 1, 1)),\n",
    "#     nn.Conv2d(512, 512, (3, 3)),\n",
    "#     nn.ReLU(),  # relu4-4\n",
    "#     nn.MaxPool2d((2, 2), (2, 2), (0, 0), ceil_mode=True),\n",
    "#     nn.ReflectionPad2d((1, 1, 1, 1)),\n",
    "#     nn.Conv2d(512, 512, (3, 3)),\n",
    "#     nn.ReLU(),  # relu5-1\n",
    "#     nn.ReflectionPad2d((1, 1, 1, 1)),\n",
    "#     nn.Conv2d(512, 512, (3, 3)),\n",
    "#     nn.ReLU(),  # relu5-2\n",
    "#     nn.ReflectionPad2d((1, 1, 1, 1)),\n",
    "#     nn.Conv2d(512, 512, (3, 3)),\n",
    "#     nn.ReLU(),  # relu5-3\n",
    "#     nn.ReflectionPad2d((1, 1, 1, 1)),\n",
    "#     nn.Conv2d(512, 512, (3, 3)),\n",
    "#     nn.ReLU()  # relu5-4\n",
    "# )"
   ]
  },
  {
   "cell_type": "markdown",
   "metadata": {},
   "source": [
    "## Adaptive Instance Normalization Layer"
   ]
  },
  {
   "cell_type": "markdown",
   "metadata": {},
   "source": [
    "An Adaptive Instance Normalization (AdaIN) is then achieved to align the mean and variance of the content feature maps to those of the style features maps, producing the target feature maps \n",
    "$$t = \\text{AdaIN}(f(c),f(s))=\\sigma(f(s)) \\left( \\frac{f(c)-\\mu(f(c))}{\\sigma(f(c))} \\right) + \\mu(f(c)).$$\n",
    "\n",
    "Unlike the other normalization methods (BN, IN or CIN), AdaIN has no learnable affine parameters and is in fact an extension to IN. As IN, the mean and standard deviation are computed across spacial dimensions independently for each channel and each sample.\n",
    "\n",
    "More precilely, given two inputs of the dimension $x, y \\in \\mathbb R^{N \\times C \\times H \\times W }$, where as usual (in pytorch), $N, C, H, W$ denoted the `batch_size`, `number of channel`, `height` and `width` respectively, the output of the AdaIN Layer is also in  $\\mathbb R^{N \\times C \\times H \\times W }$ and calculated as\n",
    "$$\\text{AdaIN}(x, y)_{n,c} = \\sigma(y_{n,c}) \\left( \\frac{x_{n,c} - \\mu(x_{n,c})}{\\sigma(x_{n,c})} \\right) + \\mu(y_{n,c}) \\text{ for } n = 0,1,...,N-1 \\text{ and } c = 0,1, ..., C-1$$\n",
    "where\n",
    "\n",
    "$$\\mu_(x_{n,c}) = \\frac {1}{H W} \\sum_{h=1}^H \\sum_{w=1}^W x_{n, c, h, w},$$\n",
    "$$\\sigma_{n,c} = \\sqrt{\\frac {1}{H W} \\sum_{h=1}^H \\sum_{w=1}^W ( x_{n, c, h, w} - \\mu(x_{n,c}))^2 + \\epsilon }.$$\n",
    "and $\\epsilon$ is a small positive constant (for example $1e-5$) for numerical stability (avoid divided by zero)"
   ]
  },
  {
   "cell_type": "code",
   "execution_count": 5,
   "metadata": {},
   "outputs": [],
   "source": [
    "class AdaptiveIN(nn.Module):\n",
    "    def __init__(self):\n",
    "        super().__init__()\n",
    "    \n",
    "    def forward(self, content_feat, style_feat):\n",
    "        return adaptive_instance_normalization(content_feat, style_feat)\n",
    "\n",
    "def adaptive_instance_normalization(content_feat, style_feat):\n",
    "    assert (content_feat.size()[:2] == style_feat.size()[:2])\n",
    "    size = content_feat.size()\n",
    "    style_mean, style_std = calc_mean_std(style_feat)\n",
    "    content_mean, content_std = calc_mean_std(content_feat)\n",
    "\n",
    "    normalized_feat = (content_feat - content_mean.expand(\n",
    "        size)) / content_std.expand(size)\n",
    "    return normalized_feat * style_std.expand(size) + style_mean.expand(size)\n",
    "\n",
    "def calc_mean_std(feat, eps=1e-5):\n",
    "    # eps is a small value added to the variance to avoid divide-by-zero.\n",
    "    size = feat.size()\n",
    "    assert (len(size) == 4)\n",
    "    N, C = size[:2]\n",
    "    feat_var = feat.view(N, C, -1).var(dim=2) + eps\n",
    "    feat_std = feat_var.sqrt().view(N, C, 1, 1)\n",
    "    feat_mean = feat.view(N, C, -1).mean(dim=2).view(N, C, 1, 1)\n",
    "    return feat_mean, feat_std\n",
    "    "
   ]
  },
  {
   "cell_type": "markdown",
   "metadata": {},
   "source": [
    "## The Decoder"
   ]
  },
  {
   "cell_type": "markdown",
   "metadata": {},
   "source": [
    "A Decoder $g$, which mostly mirrors the encoder, is finally used to map the target feature map $t$ back to the image space, generating the stylized image $T(c,s) = g(t)$."
   ]
  },
  {
   "cell_type": "code",
   "execution_count": 52,
   "metadata": {},
   "outputs": [],
   "source": [
    "decoder = nn.Sequential(\n",
    "    nn.ReflectionPad2d((1, 1, 1, 1)),\n",
    "    nn.Conv2d(512, 256, (3, 3)),\n",
    "    nn.ReLU(),\n",
    "    nn.Upsample(scale_factor=2, mode='nearest'), #increase the spatial resolution of the feature maps\n",
    "    nn.ReflectionPad2d((1, 1, 1, 1)),\n",
    "    nn.Conv2d(256, 256, (3, 3)),\n",
    "    nn.ReLU(),\n",
    "    nn.ReflectionPad2d((1, 1, 1, 1)),\n",
    "    nn.Conv2d(256, 256, (3, 3)),\n",
    "    nn.ReLU(),\n",
    "    nn.ReflectionPad2d((1, 1, 1, 1)),\n",
    "    nn.Conv2d(256, 256, (3, 3)),\n",
    "    nn.ReLU(),\n",
    "    nn.ReflectionPad2d((1, 1, 1, 1)),\n",
    "    nn.Conv2d(256, 128, (3, 3)),\n",
    "    nn.ReLU(),\n",
    "    nn.Upsample(scale_factor=2, mode='nearest'), #increase the spatial resolution of the feature maps\n",
    "    nn.ReflectionPad2d((1, 1, 1, 1)),\n",
    "    nn.Conv2d(128, 128, (3, 3)),\n",
    "    nn.ReLU(),\n",
    "    nn.ReflectionPad2d((1, 1, 1, 1)),\n",
    "    nn.Conv2d(128, 64, (3, 3)),\n",
    "    nn.ReLU(),\n",
    "    nn.Upsample(scale_factor=2, mode='nearest'),\n",
    "    nn.ReflectionPad2d((1, 1, 1, 1)),\n",
    "    nn.Conv2d(64, 32, (3, 3)),\n",
    "    nn.ReLU(),\n",
    "    nn.ReflectionPad2d((1, 1, 1, 1)),\n",
    "    nn.Conv2d(32, 32, (3, 3)),\n",
    "\n",
    "    # new\n",
    "    nn.Upsample(scale_factor=2, mode='nearest'),\n",
    "    nn.ReLU(),\n",
    "    nn.ReflectionPad2d((1, 1, 1, 1)),\n",
    "    nn.Conv2d(32, 16, (3, 3)),\n",
    "\n",
    "    nn.Upsample(scale_factor=2, mode='nearest'),\n",
    "    nn.ReLU(),\n",
    "    nn.ReflectionPad2d((1, 1, 1, 1)),\n",
    "    nn.Conv2d(16, 3, (3, 3)),\n",
    "\n",
    ")"
   ]
  },
  {
   "cell_type": "markdown",
   "metadata": {},
   "source": [
    "## Style Transfer Model and loss function"
   ]
  },
  {
   "cell_type": "markdown",
   "metadata": {},
   "source": [
    "The part of the model which will be trained is the decoder $g$. The training is performed with a loss function using not only $g$ but also the pre-trained VGG encoder $f$. The loss function $\\mathcal L$ is a weighted combination of the content loss $\\mathcal L_c$ and the style loss $\\mathcal L_s$ with the style loss weight $\\lambda$, allowing to adjust the compromise between content and style :\n",
    "\n",
    "$$\\mathcal L = \\mathcal L_c + \\lambda \\mathcal L_s.$$\n",
    "\n",
    "The content loss corresponds to the mean-squared error between the target features $t$ and the features of the output image $f(g(t))$ :\n",
    "\n",
    "$$\\mathcal L_c = \\lVert f(g(t)) - t \\rVert_2.$$\n",
    "\n",
    "The style loss corresponds to the sum of the mean-squared errors between the mean and standard deviation of the the style image $s$ and the stylized image $g(t)$, computed for each layer $\\phi_i$ (L is the total number of layers) in the encoder $f$ :\n",
    "\n",
    "$$\\mathcal L_s = \\sum_{i=1}^L \\lVert \\mu(\\phi_i(g(t))) - \\mu(\\phi_i(s))\\rVert_2 + \\sum_{i=1}^L \\lVert \\sigma(\\phi_i(g(t))) - \\sigma(\\phi_i(s)) \\rVert_2.$$"
   ]
  },
  {
   "cell_type": "code",
   "execution_count": 75,
   "metadata": {},
   "outputs": [],
   "source": [
    "class StyleTransferNet(nn.Module):\n",
    "    def __init__(self, encoder, decoder, style_loss_index = [4, 9, 16, 23, 32, 37]):\n",
    "        super(StyleTransferNet, self).__init__()\n",
    "        # Want to fix the encoder, disable require grad\n",
    "        for _, param in encoder.named_parameters():\n",
    "            param.requires_grad = False\n",
    "\n",
    "        encoder_layers = list(encoder.children())\n",
    "        self.n_style_checkpoints = len(style_loss_index)\n",
    "        style_loss_index.insert(0, 0)\n",
    "\n",
    "        self.style_loss_checkpoints = [\n",
    "            nn.Sequential(*encoder_layers[style_loss_index[i]:style_loss_index[i+1]])\n",
    "            for i in range(len(style_loss_index) - 1)\n",
    "        ]\n",
    "\n",
    "        self.encoder = encoder\n",
    "        self.decoder = decoder\n",
    "        self.mse_loss = nn.MSELoss()        \n",
    "\n",
    "    # Encode the style image and store the intermediate values for \n",
    "    # calculating style loss \n",
    "    def encode_with_intermediate(self, input):\n",
    "        # encode the input image and store the intermediate value for \n",
    "        # calculating the final style loss\n",
    "        results = [input]\n",
    "        for i in range(self.n_style_checkpoints):\n",
    "            func = self.style_loss_checkpoints[i]\n",
    "            results.append(func(results[-1]))\n",
    "        return results[1:]\n",
    "\n",
    "    # Encode the input image to get the features\n",
    "    def encode(self, input):\n",
    "        for i in range(self.n_style_checkpoints):\n",
    "            input = self.style_loss_checkpoints[i](input)\n",
    "        return input\n",
    "\n",
    "    # Content loss: (encoder(decoder(input)) - input)).norm()\n",
    "    def calc_content_loss(self, input, target):\n",
    "        assert (input.size() == target.size())\n",
    "        assert (target.requires_grad is False)\n",
    "        return self.mse_loss(input, target)\n",
    "\n",
    "    # Style loss \n",
    "    def calc_style_loss(self, input, target):\n",
    "        \"\"\"\n",
    "        Style loss for a single couple of (input, target) images\n",
    "        \"\"\"\n",
    "        assert (input.size() == target.size())\n",
    "        assert (target.requires_grad is False)\n",
    "        input_mean, input_std = calc_mean_std(input)\n",
    "        target_mean, target_std = calc_mean_std(target)\n",
    "        return self.mse_loss(input_mean, target_mean) + \\\n",
    "               self.mse_loss(input_std, target_std)\n",
    "\n",
    "    def forward(self, content, style, alpha=1.0):\n",
    "        assert 0 <= alpha <= 1    # constant to adjust the compromise between content and style\n",
    "        style_feats = self.encode_with_intermediate(style)   # intermediate values during encoding \n",
    "        content_feat = self.encode(content)   # f(c)\n",
    "        t = adaptive_instance_normalization(content_feat, style_feats[-1])     # t = AdapIN(f(c))\n",
    "        t = alpha * t + (1 - alpha) * content_feat\n",
    "\n",
    "        # g(t) - the generated image by the decoder\n",
    "        g_t = self.decoder(t)     \n",
    "        # Re-passing the generated image to the encoder for calculating losses  \n",
    "        g_t_feats = self.encode_with_intermediate(g_t)     \n",
    "\n",
    "        # Content loss between t = f(c) and f(g(t))\n",
    "        loss_c = self.calc_content_loss(g_t_feats[-1], t)\n",
    "        # Style loss during encoding-phase between s and f(g(t))\n",
    "        # it's the sum over pre-selected layers of encoder\n",
    "        loss_s = torch.sum(torch.stack([\n",
    "            self.calc_style_loss(g_t_feats[i], style_feats[i]) for i in range(self.n_style_checkpoints) \n",
    "        ]))\n",
    "        \n",
    "        return loss_c, loss_s"
   ]
  },
  {
   "cell_type": "markdown",
   "metadata": {},
   "source": [
    "### Load weights from pre-trained models"
   ]
  },
  {
   "cell_type": "code",
   "execution_count": 106,
   "metadata": {},
   "outputs": [],
   "source": [
    "# Load encoder and decoder\n",
    "# encoder.load_state_dict(torch.load(\"./models/vgg_normalised.pth\"))\n",
    "# decoder.load_state_dict(torch.load(\"./models/decoder.pth\"))\n",
    "\n",
    "trained_state_dict = torch.load(\"./models/decoder.pth\")\n",
    "# 1. filter out unnecessary keys\n",
    "trained_state_dict = {k: v for k, v in trained_state_dict.items() if k in decoder.state_dict()}\n",
    "# 2. overwrite entries in the existing state dict\n",
    "decoder.state_dict().update(trained_state_dict) \n",
    "\n",
    "net = StyleTransferNet(encoder, decoder)"
   ]
  },
  {
   "cell_type": "markdown",
   "metadata": {},
   "source": [
    "## Training Data"
   ]
  },
  {
   "cell_type": "markdown",
   "metadata": {},
   "source": [
    "### Download training data\n"
   ]
  },
  {
   "cell_type": "markdown",
   "metadata": {},
   "source": [
    "Below is a script for downloading the training dataset. \n",
    "\n",
    "The content images are taken from the [COCO Dataset](https://cocodataset.org/#home) and the style images are taken from [Wikiart Dataset](https://www.kaggle.com/competitions/painter-by-numbers/) "
   ]
  },
  {
   "cell_type": "code",
   "execution_count": null,
   "metadata": {},
   "outputs": [],
   "source": [
    "# Full 2017 train images from COCO\n",
    "# !wget http://images.cocodataset.org/zips/train2017.zip\n",
    "# 2017 Validation set (~5k images, 1GB)\n",
    "# !wget http://images.cocodataset.org/zips/val2017.zip\n",
    "# Full wikiart dataset from kaggle\n",
    "# !wget https://storage.googleapis.com/kagglesdsdata/competitions/5127/868727/train.zip?GoogleAccessId=web-data@kaggle-161607.iam.gserviceaccount.com&Expires=1669156192&Signature=N1x%2BVHnHmgIMVB8goyd8s%2F7vdht0gttXBnA%2FJ4RfBebx67cR8lt0ghsRV7KK%2B2S5%2BEdiR7oMf%2BzBrHi7bT4Yw4rdXvBi9PKPAgKcWRQMoKUvidMQt05LY4imjpIzg3WuQRz04MKy4NV%2Fc9Hhd83s9b%2Bgx%2FzKTApxnELUsHpdS61WEvBThH8NtdZOU6X0%2BgnOLcrseMGqE%2BKRiSLjKzF3yZ4%2FRYAtrlpbe%2Fhdz6nj9FSWBOfws6Yvynr3TqhB%2FLAzOYV%2BY8N3%2By7G53PjRPsN5jFR%2FeA81EWy0a8lhejbaiuHsd4IcbIL1ExWE1oIK4xDuKdb2nEDy2pGk%2FKY%2BdeRSA%3D%3D&response-content-disposition=attachment%3B+filename%3Dtrain.zip\n",
    "# A small subset \n",
    "# !wget https://storage.googleapis.com/kagglesdsdata/competitions/5127/868727/train_1.zip?GoogleAccessId=web-data@kaggle-161607.iam.gserviceaccount.com&Expires=1669156268&Signature=XieI3fwZReUSBmiXZ2ov25fQAoxpqIiOgITk%2BFZ2cFnEthTrcHpSd2tk%2BrkY3%2FcfRxWgZ%2BoSdQR4BMJYfLo9rCCOD4Hg75SL5AhTZKdEGTkzOeKfR7LJkveSGCVH8euqQNFaE3x%2FaSbyNYk%2BuqBi%2BXIRxlIXeOghmnXPDEe4Gp1QbQk1M83YWl0YAgqTqT77ZXGmOb89wP2sXtnWVmbjPnDBDLWj6vI76FoK7fZgrqJJD4jFPCXnVKWDdK%2FRgho45Q%2Fr8zQRSBDGahwd5dOFydSwXdtPSOS4s4%2BsWsmfxYpzsvlPFidJLSXK%2Fle7kFYcNSn%2FKda7n65ISfJuJD1bjA%3D%3D&response-content-disposition=attachment%3B+filename%3Dtrain_1.zip\n",
    "\n"
   ]
  },
  {
   "cell_type": "markdown",
   "metadata": {},
   "source": [
    "## Dataset and Dataloader"
   ]
  },
  {
   "cell_type": "code",
   "execution_count": 77,
   "metadata": {},
   "outputs": [],
   "source": [
    "class FlatFolderDataset(data.Dataset):\n",
    "    def __init__(self, root, transform):\n",
    "        super(FlatFolderDataset, self).__init__()\n",
    "        self.root = root\n",
    "        self.paths = list(Path(self.root).glob('*'))\n",
    "        self.transform = transform\n",
    "\n",
    "    def __getitem__(self, index):\n",
    "        path = self.paths[index]\n",
    "        img = Image.open(str(path)).convert('RGB')\n",
    "        img = self.transform(img)\n",
    "        return img\n",
    "\n",
    "    def __len__(self):\n",
    "        return len(self.paths)\n",
    "\n",
    "    def name(self):\n",
    "        return 'FlatFolderDataset'\n",
    "\n",
    "def train_transform(size = (256,256)):\n",
    "    transform_list = [\n",
    "        transforms.Resize(size=(512, 512)),\n",
    "        transforms.RandomCrop(size=size),\n",
    "        transforms.ToTensor()\n",
    "    ]\n",
    "    return transforms.Compose(transform_list)\n",
    "\n",
    "def reset_lr(optimizer, new_lr):\n",
    "    for param_group in optimizer.param_groups:\n",
    "        param_group['lr'] = new_lr"
   ]
  },
  {
   "cell_type": "markdown",
   "metadata": {},
   "source": [
    "Define Dataset"
   ]
  },
  {
   "cell_type": "code",
   "execution_count": 78,
   "metadata": {},
   "outputs": [],
   "source": [
    "content_path = \"./data/train2014/\"\n",
    "style_path = \"./data/test/\"\n",
    "train_tf = train_transform(size = (256,256))\n",
    "content_dataset = FlatFolderDataset(content_path, train_tf)\n",
    "style_dataset = FlatFolderDataset(style_path, train_tf)"
   ]
  },
  {
   "cell_type": "markdown",
   "metadata": {},
   "source": [
    "Training loop"
   ]
  },
  {
   "cell_type": "code",
   "execution_count": 79,
   "metadata": {},
   "outputs": [],
   "source": [
    "def InfiniteSampler(n):\n",
    "    # i = 0\n",
    "    i = n - 1\n",
    "    order = np.random.permutation(n)\n",
    "    while True:\n",
    "        yield order[i]\n",
    "        i += 1\n",
    "        if i >= n:\n",
    "            np.random.seed()\n",
    "            order = np.random.permutation(n)\n",
    "            i = 0\n",
    "\n",
    "\n",
    "class InfiniteSamplerWrapper(data.sampler.Sampler):\n",
    "    def __init__(self, data_source):\n",
    "        self.num_samples = len(data_source)\n",
    "\n",
    "    def __iter__(self):\n",
    "        return iter(InfiniteSampler(self.num_samples))\n",
    "\n",
    "    def __len__(self):\n",
    "        return 2 ** 31"
   ]
  },
  {
   "cell_type": "code",
   "execution_count": 80,
   "metadata": {},
   "outputs": [],
   "source": [
    "save_dir = \"./experiments\"\n",
    "lr = 1e-4\n",
    "scheduler = {\"reset_every\": 10000, \"scale\": 0.9}\n",
    "max_iter = 160000\n",
    "batch_size = 8\n",
    "style_weight = 10\n",
    "content_weight = 1\n",
    "n_threads = 16\n",
    "save_model_interval = 10000"
   ]
  },
  {
   "cell_type": "markdown",
   "metadata": {},
   "source": [
    "### Training loop "
   ]
  },
  {
   "cell_type": "code",
   "execution_count": 86,
   "metadata": {},
   "outputs": [
    {
     "name": "stdout",
     "output_type": "stream",
     "text": [
      "Iteration 0, content loss 0.27, style loss 40.71\n",
      "Iteration 499, content loss 0.31, style loss 12.45\n"
     ]
    },
    {
     "ename": "OSError",
     "evalue": "image file is truncated (79 bytes not processed)",
     "output_type": "error",
     "traceback": [
      "\u001b[0;31m---------------------------------------------------------------------------\u001b[0m",
      "\u001b[0;31mOSError\u001b[0m                                   Traceback (most recent call last)",
      "\u001b[1;32m/home/mhnguyen/5GMM/High-Dimensional-Deep-Learning/Projet/HDDL_Style_Transfert/style_transfer.ipynb Cellule 36\u001b[0m in \u001b[0;36m<cell line: 12>\u001b[0;34m()\u001b[0m\n\u001b[1;32m     <a href='vscode-notebook-cell:/home/mhnguyen/5GMM/High-Dimensional-Deep-Learning/Projet/HDDL_Style_Transfert/style_transfer.ipynb#X50sZmlsZQ%3D%3D?line=14'>15</a>\u001b[0m     reset_lr(optimizer, lr)\n\u001b[1;32m     <a href='vscode-notebook-cell:/home/mhnguyen/5GMM/High-Dimensional-Deep-Learning/Projet/HDDL_Style_Transfert/style_transfer.ipynb#X50sZmlsZQ%3D%3D?line=17'>18</a>\u001b[0m content_images \u001b[39m=\u001b[39m \u001b[39mnext\u001b[39m(content_iter)\u001b[39m.\u001b[39mto(device)\n\u001b[0;32m---> <a href='vscode-notebook-cell:/home/mhnguyen/5GMM/High-Dimensional-Deep-Learning/Projet/HDDL_Style_Transfert/style_transfer.ipynb#X50sZmlsZQ%3D%3D?line=18'>19</a>\u001b[0m style_images \u001b[39m=\u001b[39m \u001b[39mnext\u001b[39;49m(style_iter)\u001b[39m.\u001b[39mto(device)\n\u001b[1;32m     <a href='vscode-notebook-cell:/home/mhnguyen/5GMM/High-Dimensional-Deep-Learning/Projet/HDDL_Style_Transfert/style_transfer.ipynb#X50sZmlsZQ%3D%3D?line=19'>20</a>\u001b[0m loss_c, loss_s \u001b[39m=\u001b[39m net(content_images, style_images)\n\u001b[1;32m     <a href='vscode-notebook-cell:/home/mhnguyen/5GMM/High-Dimensional-Deep-Learning/Projet/HDDL_Style_Transfert/style_transfer.ipynb#X50sZmlsZQ%3D%3D?line=20'>21</a>\u001b[0m loss_c \u001b[39m=\u001b[39m content_weight \u001b[39m*\u001b[39m loss_c\n",
      "File \u001b[0;32m~/.conda/envs/deep-learning/lib/python3.9/site-packages/torch/utils/data/dataloader.py:681\u001b[0m, in \u001b[0;36m_BaseDataLoaderIter.__next__\u001b[0;34m(self)\u001b[0m\n\u001b[1;32m    678\u001b[0m \u001b[39mif\u001b[39;00m \u001b[39mself\u001b[39m\u001b[39m.\u001b[39m_sampler_iter \u001b[39mis\u001b[39;00m \u001b[39mNone\u001b[39;00m:\n\u001b[1;32m    679\u001b[0m     \u001b[39m# TODO(https://github.com/pytorch/pytorch/issues/76750)\u001b[39;00m\n\u001b[1;32m    680\u001b[0m     \u001b[39mself\u001b[39m\u001b[39m.\u001b[39m_reset()  \u001b[39m# type: ignore[call-arg]\u001b[39;00m\n\u001b[0;32m--> 681\u001b[0m data \u001b[39m=\u001b[39m \u001b[39mself\u001b[39;49m\u001b[39m.\u001b[39;49m_next_data()\n\u001b[1;32m    682\u001b[0m \u001b[39mself\u001b[39m\u001b[39m.\u001b[39m_num_yielded \u001b[39m+\u001b[39m\u001b[39m=\u001b[39m \u001b[39m1\u001b[39m\n\u001b[1;32m    683\u001b[0m \u001b[39mif\u001b[39;00m \u001b[39mself\u001b[39m\u001b[39m.\u001b[39m_dataset_kind \u001b[39m==\u001b[39m _DatasetKind\u001b[39m.\u001b[39mIterable \u001b[39mand\u001b[39;00m \\\n\u001b[1;32m    684\u001b[0m         \u001b[39mself\u001b[39m\u001b[39m.\u001b[39m_IterableDataset_len_called \u001b[39mis\u001b[39;00m \u001b[39mnot\u001b[39;00m \u001b[39mNone\u001b[39;00m \u001b[39mand\u001b[39;00m \\\n\u001b[1;32m    685\u001b[0m         \u001b[39mself\u001b[39m\u001b[39m.\u001b[39m_num_yielded \u001b[39m>\u001b[39m \u001b[39mself\u001b[39m\u001b[39m.\u001b[39m_IterableDataset_len_called:\n",
      "File \u001b[0;32m~/.conda/envs/deep-learning/lib/python3.9/site-packages/torch/utils/data/dataloader.py:721\u001b[0m, in \u001b[0;36m_SingleProcessDataLoaderIter._next_data\u001b[0;34m(self)\u001b[0m\n\u001b[1;32m    719\u001b[0m \u001b[39mdef\u001b[39;00m \u001b[39m_next_data\u001b[39m(\u001b[39mself\u001b[39m):\n\u001b[1;32m    720\u001b[0m     index \u001b[39m=\u001b[39m \u001b[39mself\u001b[39m\u001b[39m.\u001b[39m_next_index()  \u001b[39m# may raise StopIteration\u001b[39;00m\n\u001b[0;32m--> 721\u001b[0m     data \u001b[39m=\u001b[39m \u001b[39mself\u001b[39;49m\u001b[39m.\u001b[39;49m_dataset_fetcher\u001b[39m.\u001b[39;49mfetch(index)  \u001b[39m# may raise StopIteration\u001b[39;00m\n\u001b[1;32m    722\u001b[0m     \u001b[39mif\u001b[39;00m \u001b[39mself\u001b[39m\u001b[39m.\u001b[39m_pin_memory:\n\u001b[1;32m    723\u001b[0m         data \u001b[39m=\u001b[39m _utils\u001b[39m.\u001b[39mpin_memory\u001b[39m.\u001b[39mpin_memory(data, \u001b[39mself\u001b[39m\u001b[39m.\u001b[39m_pin_memory_device)\n",
      "File \u001b[0;32m~/.conda/envs/deep-learning/lib/python3.9/site-packages/torch/utils/data/_utils/fetch.py:49\u001b[0m, in \u001b[0;36m_MapDatasetFetcher.fetch\u001b[0;34m(self, possibly_batched_index)\u001b[0m\n\u001b[1;32m     47\u001b[0m \u001b[39mdef\u001b[39;00m \u001b[39mfetch\u001b[39m(\u001b[39mself\u001b[39m, possibly_batched_index):\n\u001b[1;32m     48\u001b[0m     \u001b[39mif\u001b[39;00m \u001b[39mself\u001b[39m\u001b[39m.\u001b[39mauto_collation:\n\u001b[0;32m---> 49\u001b[0m         data \u001b[39m=\u001b[39m [\u001b[39mself\u001b[39m\u001b[39m.\u001b[39mdataset[idx] \u001b[39mfor\u001b[39;00m idx \u001b[39min\u001b[39;00m possibly_batched_index]\n\u001b[1;32m     50\u001b[0m     \u001b[39melse\u001b[39;00m:\n\u001b[1;32m     51\u001b[0m         data \u001b[39m=\u001b[39m \u001b[39mself\u001b[39m\u001b[39m.\u001b[39mdataset[possibly_batched_index]\n",
      "File \u001b[0;32m~/.conda/envs/deep-learning/lib/python3.9/site-packages/torch/utils/data/_utils/fetch.py:49\u001b[0m, in \u001b[0;36m<listcomp>\u001b[0;34m(.0)\u001b[0m\n\u001b[1;32m     47\u001b[0m \u001b[39mdef\u001b[39;00m \u001b[39mfetch\u001b[39m(\u001b[39mself\u001b[39m, possibly_batched_index):\n\u001b[1;32m     48\u001b[0m     \u001b[39mif\u001b[39;00m \u001b[39mself\u001b[39m\u001b[39m.\u001b[39mauto_collation:\n\u001b[0;32m---> 49\u001b[0m         data \u001b[39m=\u001b[39m [\u001b[39mself\u001b[39;49m\u001b[39m.\u001b[39;49mdataset[idx] \u001b[39mfor\u001b[39;00m idx \u001b[39min\u001b[39;00m possibly_batched_index]\n\u001b[1;32m     50\u001b[0m     \u001b[39melse\u001b[39;00m:\n\u001b[1;32m     51\u001b[0m         data \u001b[39m=\u001b[39m \u001b[39mself\u001b[39m\u001b[39m.\u001b[39mdataset[possibly_batched_index]\n",
      "\u001b[1;32m/home/mhnguyen/5GMM/High-Dimensional-Deep-Learning/Projet/HDDL_Style_Transfert/style_transfer.ipynb Cellule 36\u001b[0m in \u001b[0;36mFlatFolderDataset.__getitem__\u001b[0;34m(self, index)\u001b[0m\n\u001b[1;32m      <a href='vscode-notebook-cell:/home/mhnguyen/5GMM/High-Dimensional-Deep-Learning/Projet/HDDL_Style_Transfert/style_transfer.ipynb#X50sZmlsZQ%3D%3D?line=7'>8</a>\u001b[0m \u001b[39mdef\u001b[39;00m \u001b[39m__getitem__\u001b[39m(\u001b[39mself\u001b[39m, index):\n\u001b[1;32m      <a href='vscode-notebook-cell:/home/mhnguyen/5GMM/High-Dimensional-Deep-Learning/Projet/HDDL_Style_Transfert/style_transfer.ipynb#X50sZmlsZQ%3D%3D?line=8'>9</a>\u001b[0m     path \u001b[39m=\u001b[39m \u001b[39mself\u001b[39m\u001b[39m.\u001b[39mpaths[index]\n\u001b[0;32m---> <a href='vscode-notebook-cell:/home/mhnguyen/5GMM/High-Dimensional-Deep-Learning/Projet/HDDL_Style_Transfert/style_transfer.ipynb#X50sZmlsZQ%3D%3D?line=9'>10</a>\u001b[0m     img \u001b[39m=\u001b[39m Image\u001b[39m.\u001b[39;49mopen(\u001b[39mstr\u001b[39;49m(path))\u001b[39m.\u001b[39;49mconvert(\u001b[39m'\u001b[39;49m\u001b[39mRGB\u001b[39;49m\u001b[39m'\u001b[39;49m)\n\u001b[1;32m     <a href='vscode-notebook-cell:/home/mhnguyen/5GMM/High-Dimensional-Deep-Learning/Projet/HDDL_Style_Transfert/style_transfer.ipynb#X50sZmlsZQ%3D%3D?line=10'>11</a>\u001b[0m     img \u001b[39m=\u001b[39m \u001b[39mself\u001b[39m\u001b[39m.\u001b[39mtransform(img)\n\u001b[1;32m     <a href='vscode-notebook-cell:/home/mhnguyen/5GMM/High-Dimensional-Deep-Learning/Projet/HDDL_Style_Transfert/style_transfer.ipynb#X50sZmlsZQ%3D%3D?line=11'>12</a>\u001b[0m     \u001b[39mreturn\u001b[39;00m img\n",
      "File \u001b[0;32m~/.conda/envs/deep-learning/lib/python3.9/site-packages/PIL/Image.py:901\u001b[0m, in \u001b[0;36mImage.convert\u001b[0;34m(self, mode, matrix, dither, palette, colors)\u001b[0m\n\u001b[1;32m    856\u001b[0m \u001b[39mdef\u001b[39;00m \u001b[39mconvert\u001b[39m(\n\u001b[1;32m    857\u001b[0m     \u001b[39mself\u001b[39m, mode\u001b[39m=\u001b[39m\u001b[39mNone\u001b[39;00m, matrix\u001b[39m=\u001b[39m\u001b[39mNone\u001b[39;00m, dither\u001b[39m=\u001b[39m\u001b[39mNone\u001b[39;00m, palette\u001b[39m=\u001b[39mPalette\u001b[39m.\u001b[39mWEB, colors\u001b[39m=\u001b[39m\u001b[39m256\u001b[39m\n\u001b[1;32m    858\u001b[0m ):\n\u001b[1;32m    859\u001b[0m     \u001b[39m\"\"\"\u001b[39;00m\n\u001b[1;32m    860\u001b[0m \u001b[39m    Returns a converted copy of this image. For the \"P\" mode, this\u001b[39;00m\n\u001b[1;32m    861\u001b[0m \u001b[39m    method translates pixels through the palette.  If mode is\u001b[39;00m\n\u001b[0;32m   (...)\u001b[0m\n\u001b[1;32m    898\u001b[0m \u001b[39m    :returns: An :py:class:`~PIL.Image.Image` object.\u001b[39;00m\n\u001b[1;32m    899\u001b[0m \u001b[39m    \"\"\"\u001b[39;00m\n\u001b[0;32m--> 901\u001b[0m     \u001b[39mself\u001b[39;49m\u001b[39m.\u001b[39;49mload()\n\u001b[1;32m    903\u001b[0m     has_transparency \u001b[39m=\u001b[39m \u001b[39mself\u001b[39m\u001b[39m.\u001b[39minfo\u001b[39m.\u001b[39mget(\u001b[39m\"\u001b[39m\u001b[39mtransparency\u001b[39m\u001b[39m\"\u001b[39m) \u001b[39mis\u001b[39;00m \u001b[39mnot\u001b[39;00m \u001b[39mNone\u001b[39;00m\n\u001b[1;32m    904\u001b[0m     \u001b[39mif\u001b[39;00m \u001b[39mnot\u001b[39;00m mode \u001b[39mand\u001b[39;00m \u001b[39mself\u001b[39m\u001b[39m.\u001b[39mmode \u001b[39m==\u001b[39m \u001b[39m\"\u001b[39m\u001b[39mP\u001b[39m\u001b[39m\"\u001b[39m:\n\u001b[1;32m    905\u001b[0m         \u001b[39m# determine default mode\u001b[39;00m\n",
      "File \u001b[0;32m~/.conda/envs/deep-learning/lib/python3.9/site-packages/PIL/ImageFile.py:251\u001b[0m, in \u001b[0;36mImageFile.load\u001b[0;34m(self)\u001b[0m\n\u001b[1;32m    249\u001b[0m         \u001b[39mbreak\u001b[39;00m\n\u001b[1;32m    250\u001b[0m     \u001b[39melse\u001b[39;00m:\n\u001b[0;32m--> 251\u001b[0m         \u001b[39mraise\u001b[39;00m \u001b[39mOSError\u001b[39;00m(\n\u001b[1;32m    252\u001b[0m             \u001b[39m\"\u001b[39m\u001b[39mimage file is truncated \u001b[39m\u001b[39m\"\u001b[39m\n\u001b[1;32m    253\u001b[0m             \u001b[39mf\u001b[39m\u001b[39m\"\u001b[39m\u001b[39m(\u001b[39m\u001b[39m{\u001b[39;00m\u001b[39mlen\u001b[39m(b)\u001b[39m}\u001b[39;00m\u001b[39m bytes not processed)\u001b[39m\u001b[39m\"\u001b[39m\n\u001b[1;32m    254\u001b[0m         )\n\u001b[1;32m    256\u001b[0m b \u001b[39m=\u001b[39m b \u001b[39m+\u001b[39m s\n\u001b[1;32m    257\u001b[0m n, err_code \u001b[39m=\u001b[39m decoder\u001b[39m.\u001b[39mdecode(b)\n",
      "\u001b[0;31mOSError\u001b[0m: image file is truncated (79 bytes not processed)"
     ]
    }
   ],
   "source": [
    "net.train()\n",
    "net.to(device)\n",
    "\n",
    "content_iter = iter(data.DataLoader(content_dataset, batch_size, shuffle=True))\n",
    "style_iter = iter(data.DataLoader(style_dataset, batch_size, shuffle=True))\n",
    "\n",
    "optimizer = torch.optim.Adam(net.decoder.parameters(), lr=lr)\n",
    "\n",
    "loss_content = []\n",
    "loss_style = []\n",
    "\n",
    "for i in range(max_iter):\n",
    "    if i % scheduler[\"reset_every\"] == 0:\n",
    "        lr = lr * scheduler[\"scale\"]\n",
    "        reset_lr(optimizer, lr)\n",
    "\n",
    "\n",
    "    content_images = next(content_iter).to(device)\n",
    "    style_images = next(style_iter).to(device)\n",
    "    loss_c, loss_s = net(content_images, style_images)\n",
    "    loss_c = content_weight * loss_c\n",
    "    loss_s = style_weight * loss_s\n",
    "    loss = loss_c + loss_s\n",
    "\n",
    "    optimizer.zero_grad()\n",
    "    loss.backward()\n",
    "    optimizer.step()\n",
    "\n",
    "    loss_content.append(loss_c.item())\n",
    "    loss_style.append(loss_s.item())\n",
    "\n",
    "    if (i + 1 ) % 500 == 0 or i == 0:\n",
    "        print(f\"Iteration {i}, content loss {loss_c.item():.2f}, style loss {loss_s.item():.2f}\")\n",
    "\n",
    "\n",
    "    if (i + 1) % save_model_interval == 0 or (i + 1) == max_iter:\n",
    "        state_dict = net.decoder.state_dict()\n",
    "        for key in state_dict.keys():\n",
    "            state_dict[key] = state_dict[key].to(torch.device('cpu'))\n",
    "        \n",
    "        torch.save(state_dict, save_dir /\n",
    "                'decoder_iter_{:d}.pth.tar'.format(i + 1))\n"
   ]
  },
  {
   "cell_type": "markdown",
   "metadata": {},
   "source": [
    "## Test with images"
   ]
  },
  {
   "cell_type": "markdown",
   "metadata": {},
   "source": [
    "The function below allows to take an input image of "
   ]
  },
  {
   "cell_type": "code",
   "execution_count": 80,
   "metadata": {},
   "outputs": [],
   "source": [
    "def test_transform(size, crop):\n",
    "    transform_list = []\n",
    "    if size != 0:\n",
    "        transform_list.append(transforms.Resize(size))\n",
    "    if crop:\n",
    "        transform_list.append(transforms.CenterCrop(size))\n",
    "    transform_list.append(transforms.ToTensor())\n",
    "    transform = transforms.Compose(transform_list)\n",
    "    return transform\n",
    "\n",
    "\n",
    "def style_transfer(vgg, decoder, content, style, alpha=1.0,\n",
    "                   interpolation_weights=None):\n",
    "    assert (0.0 <= alpha <= 1.0)\n",
    "    content_f = vgg(content)\n",
    "    style_f = vgg(style)\n",
    "    if interpolation_weights:\n",
    "        _, C, H, W = content_f.size()\n",
    "        feat = torch.FloatTensor(1, C, H, W).zero_().to(device)\n",
    "        base_feat = adaptive_instance_normalization(content_f, style_f)\n",
    "        for i, w in enumerate(interpolation_weights):\n",
    "            feat = feat + w * base_feat[i:i + 1]\n",
    "        content_f = content_f[0:1]\n",
    "    else:\n",
    "        feat = adaptive_instance_normalization(content_f, style_f)\n",
    "    feat = feat * alpha + content_f * (1 - alpha)\n",
    "    return decoder(feat)"
   ]
  },
  {
   "cell_type": "code",
   "execution_count": 76,
   "metadata": {},
   "outputs": [],
   "source": [
    "def calc_mean_std(feat, eps=1e-5):\n",
    "    # eps is a small value added to the variance to avoid divide-by-zero.\n",
    "    size = feat.size()\n",
    "    assert (len(size) == 4)\n",
    "    N, C = size[:2]\n",
    "    feat_var = feat.view(N, C, -1).var(dim=2) + eps\n",
    "    feat_std = feat_var.sqrt().view(N, C, 1, 1)\n",
    "    feat_mean = feat.view(N, C, -1).mean(dim=2).view(N, C, 1, 1)\n",
    "    return feat_mean, feat_std\n",
    "\n",
    "\n",
    "def adaptive_instance_normalization(content_feat, style_feat):\n",
    "    assert (content_feat.size()[:2] == style_feat.size()[:2])\n",
    "    size = content_feat.size()\n",
    "    style_mean, style_std = calc_mean_std(style_feat)\n",
    "    content_mean, content_std = calc_mean_std(content_feat)\n",
    "\n",
    "    normalized_feat = (content_feat - content_mean.expand(\n",
    "        size)) / content_std.expand(size)\n",
    "    return normalized_feat * style_std.expand(size) + style_mean.expand(size)\n",
    "\n",
    "\n",
    "def _calc_feat_flatten_mean_std(feat):\n",
    "    # takes 3D feat (C, H, W), return mean and std of array within channels\n",
    "    assert (feat.size()[0] == 3)\n",
    "    assert (isinstance(feat, torch.FloatTensor))\n",
    "    feat_flatten = feat.view(3, -1)\n",
    "    mean = feat_flatten.mean(dim=-1, keepdim=True)\n",
    "    std = feat_flatten.std(dim=-1, keepdim=True)\n",
    "    return feat_flatten, mean, std\n",
    "\n",
    "\n",
    "def _mat_sqrt(x):\n",
    "    U, D, V = torch.svd(x)\n",
    "    return torch.mm(torch.mm(U, D.pow(0.5).diag()), V.t())\n",
    "\n",
    "\n",
    "def coral(source, target):\n",
    "    # assume both source and target are 3D array (C, H, W)\n",
    "    # Note: flatten -> f\n",
    "\n",
    "    source_f, source_f_mean, source_f_std = _calc_feat_flatten_mean_std(source)\n",
    "    source_f_norm = (source_f - source_f_mean.expand_as(\n",
    "        source_f)) / source_f_std.expand_as(source_f)\n",
    "    source_f_cov_eye = \\\n",
    "        torch.mm(source_f_norm, source_f_norm.t()) + torch.eye(3)\n",
    "\n",
    "    target_f, target_f_mean, target_f_std = _calc_feat_flatten_mean_std(target)\n",
    "    target_f_norm = (target_f - target_f_mean.expand_as(\n",
    "        target_f)) / target_f_std.expand_as(target_f)\n",
    "    target_f_cov_eye = \\\n",
    "        torch.mm(target_f_norm, target_f_norm.t()) + torch.eye(3)\n",
    "\n",
    "    source_f_norm_transfer = torch.mm(\n",
    "        _mat_sqrt(target_f_cov_eye),\n",
    "        torch.mm(torch.inverse(_mat_sqrt(source_f_cov_eye)),\n",
    "                 source_f_norm)\n",
    "    )\n",
    "\n",
    "    source_f_transfer = source_f_norm_transfer * \\\n",
    "                        target_f_std.expand_as(source_f_norm) + \\\n",
    "                        target_f_mean.expand_as(source_f_norm)\n",
    "\n",
    "    return source_f_transfer.view(source.size())"
   ]
  },
  {
   "cell_type": "code",
   "execution_count": 77,
   "metadata": {},
   "outputs": [],
   "source": [
    "def coral(source, target):\n",
    "    # assume both source and target are 3D array (C, H, W)\n",
    "    # Note: flatten -> f\n",
    "\n",
    "    source_f, source_f_mean, source_f_std = _calc_feat_flatten_mean_std(source)\n",
    "    source_f_norm = (source_f - source_f_mean.expand_as(\n",
    "        source_f)) / source_f_std.expand_as(source_f)\n",
    "    source_f_cov_eye = \\\n",
    "        torch.mm(source_f_norm, source_f_norm.t()) + torch.eye(3)\n",
    "\n",
    "    target_f, target_f_mean, target_f_std = _calc_feat_flatten_mean_std(target)\n",
    "    target_f_norm = (target_f - target_f_mean.expand_as(\n",
    "        target_f)) / target_f_std.expand_as(target_f)\n",
    "    target_f_cov_eye = \\\n",
    "        torch.mm(target_f_norm, target_f_norm.t()) + torch.eye(3)\n",
    "\n",
    "    source_f_norm_transfer = torch.mm(\n",
    "        _mat_sqrt(target_f_cov_eye),\n",
    "        torch.mm(torch.inverse(_mat_sqrt(source_f_cov_eye)),\n",
    "                 source_f_norm)\n",
    "    )\n",
    "\n",
    "    source_f_transfer = source_f_norm_transfer * \\\n",
    "                        target_f_std.expand_as(source_f_norm) + \\\n",
    "                        target_f_mean.expand_as(source_f_norm)\n",
    "\n",
    "    return source_f_transfer.view(source.size())"
   ]
  },
  {
   "cell_type": "code",
   "execution_count": 93,
   "metadata": {},
   "outputs": [],
   "source": [
    "#Parameters\n",
    "import os\n",
    "content_names = [\"content2.jpg\"]\n",
    "content_paths = [os.path.join(\"input/content/\", content_name) for content_name in content_names]\n",
    "style_names = [\"style1.jpg\"]\n",
    "style_paths = [os.path.join(\"input/style/\", style_name) for style_name in style_names]\n",
    "output_dir = \"output/\"\n",
    "\n",
    "content_size = 512\n",
    "style_size = 512\n",
    "crop = False\n",
    "preserve_color = False\n",
    "alpha = 1\n",
    "save_ext = \".png\"\n",
    "interpolation_weights = ''\n",
    "do_interpolation = False\n"
   ]
  },
  {
   "cell_type": "code",
   "execution_count": 101,
   "metadata": {},
   "outputs": [
    {
     "name": "stderr",
     "output_type": "stream",
     "text": [
      "Clipping input data to the valid range for imshow with RGB data ([0..1] for floats or [0..255] for integers).\n"
     ]
    },
    {
     "name": "stdout",
     "output_type": "stream",
     "text": [
      "output/stylized_content2.png\n"
     ]
    },
    {
     "data": {
      "text/plain": [
       "<matplotlib.image.AxesImage at 0x7fce07468400>"
      ]
     },
     "execution_count": 101,
     "metadata": {},
     "output_type": "execute_result"
    },
    {
     "data": {
      "image/png": "[encoded data removed]",
      "text/plain": [
       "<Figure size 640x480 with 1 Axes>"
      ]
     },
     "metadata": {},
     "output_type": "display_data"
    }
   ],
   "source": [
    "decoder.eval()\n",
    "encoder.eval()\n",
    "\n",
    "encoder = nn.Sequential(*list(encoder.children())[:31])\n",
    "\n",
    "encoder.to(device)\n",
    "decoder.to(device)\n",
    "\n",
    "content_tf = test_transform(content_size, crop)\n",
    "style_tf = test_transform(style_size, crop)\n",
    "\n",
    "\n",
    "for content_path in content_paths:\n",
    "    if do_interpolation:  # one content image, N style image\n",
    "        style = torch.stack([style_tf(Image.open(p)) for p in style_paths])\n",
    "        content = content_tf(Image.open(content_path)).unsqueeze(0).expand_as(style)\n",
    "        style = style.to(device)\n",
    "        content = content.to(device)\n",
    "        with torch.no_grad():\n",
    "            output = style_transfer(encoder, decoder, content, style,\n",
    "                                    alpha, interpolation_weights)\n",
    "        output = output.cpu()\n",
    "\n",
    "        output_name = content_path.split(\"/\")[-1][:-4]\n",
    "        output_path = os.path.join(output_dir, f\"interpolation{output_name}\" + save_ext)\n",
    "        print(output_path)\n",
    "        save_image(output, output_path)\n",
    "\n",
    "    else:  # process one content and one style\n",
    "        for style_path in style_paths:\n",
    "            content = content_tf(Image.open(content_path))\n",
    "            style = style_tf(Image.open(style_path))\n",
    "            if preserve_color:\n",
    "                style = coral(style, content)\n",
    "            style = style.to(device).unsqueeze(0)\n",
    "            content = content.to(device).unsqueeze(0)\n",
    "            with torch.no_grad():\n",
    "                output = style_transfer(encoder, decoder, content, style,\n",
    "                                        alpha)\n",
    "            output = output.cpu()\n",
    "\n",
    "            output_name = content_path.split(\"/\")[-1][:-4]\n",
    "            output_path = os.path.join(output_dir, f\"stylized_{output_name}\" + save_ext)\n",
    "            print(output_path)\n",
    "            save_image(output, output_path)\n",
    "\n",
    "plt.imshow(output.squeeze().permute(1,2,0))"
   ]
  },
  {
   "cell_type": "code",
   "execution_count": 58,
   "metadata": {},
   "outputs": [
    {
     "data": {
      "text/plain": [
       "'content1'"
      ]
     },
     "execution_count": 58,
     "metadata": {},
     "output_type": "execute_result"
    }
   ],
   "source": [
    "content_path.split(\"/\")[-1][:-4]"
   ]
  },
  {
   "cell_type": "markdown",
   "metadata": {},
   "source": [
    "## Gradio Application"
   ]
  },
  {
   "cell_type": "code",
   "execution_count": 114,
   "metadata": {},
   "outputs": [],
   "source": [
    "import gradio as gr"
   ]
  },
  {
   "cell_type": "code",
   "execution_count": 123,
   "metadata": {},
   "outputs": [],
   "source": [
    "content = np.array(Image.open(\"input/content/content1.jpg\"))\n",
    "style = np.array(Image.open(\"input/style/style1.jpg\"))\n"
   ]
  },
  {
   "cell_type": "code",
   "execution_count": 131,
   "metadata": {},
   "outputs": [
    {
     "name": "stdout",
     "output_type": "stream",
     "text": [
      "Running on local URL:  http://127.0.0.1:7879\n",
      "Running on public URL: https://5ad5a3972691b552.gradio.app\n",
      "\n",
      "This share link expires in 72 hours. For free permanent hosting, check out Spaces: https://www.huggingface.co/spaces\n"
     ]
    },
    {
     "data": {
      "text/html": [
       "<div><iframe src=\"https://5ad5a3972691b552.gradio.app\" width=\"900\" height=\"500\" allow=\"autoplay; camera; microphone;\" frameborder=\"0\" allowfullscreen></iframe></div>"
      ],
      "text/plain": [
       "<IPython.core.display.HTML object>"
      ]
     },
     "metadata": {},
     "output_type": "display_data"
    },
    {
     "data": {
      "text/plain": [
       "(<gradio.routes.App at 0x7fcd60086b20>,\n",
       " 'http://127.0.0.1:7879/',\n",
       " 'https://5ad5a3972691b552.gradio.app')"
      ]
     },
     "execution_count": 131,
     "metadata": {},
     "output_type": "execute_result"
    }
   ],
   "source": [
    "def application(content, style, alpha=1, crop=False, preserve_color=False, content_size=256, style_size=256):\n",
    "    content_tf = test_transform(content_size, crop)\n",
    "    style_tf = test_transform(style_size, crop)\n",
    "    style = style_tf(style)\n",
    "    content = content_tf(content)\n",
    "    # process one content and one style\n",
    "    if preserve_color:\n",
    "        style = coral(style, content)\n",
    "\n",
    "    style = style.to(device).unsqueeze(0)\n",
    "    content = content.to(device).unsqueeze(0)\n",
    "    with torch.no_grad():\n",
    "        output = style_transfer(encoder, decoder, content, style,\n",
    "                                alpha)\n",
    "    output = output.cpu()\n",
    "    return output.squeeze().permute(1, 2, 0).numpy().clip(-1,1)\n",
    "\n",
    "\n",
    "\n",
    "demo = gr.Interface(fn = application, \n",
    "    inputs = [gr.Image(type=\"pil\"),gr.Image(type=\"pil\"), gr.Slider(0,1), \"checkbox\", \"checkbox\"],\n",
    "    outputs = gr.Image())\n",
    "demo.launch(share=True)\n"
   ]
  },
  {
   "cell_type": "code",
   "execution_count": 103,
   "metadata": {},
   "outputs": [
    {
     "name": "stdout",
     "output_type": "stream",
     "text": [
      "Running on local URL:  http://127.0.0.1:7860\n",
      "\n",
      "To create a public link, set `share=True` in `launch()`.\n"
     ]
    },
    {
     "data": {
      "text/html": [
       "<div><iframe src=\"http://127.0.0.1:7860/\" width=\"900\" height=\"500\" allow=\"autoplay; camera; microphone;\" frameborder=\"0\" allowfullscreen></iframe></div>"
      ],
      "text/plain": [
       "<IPython.core.display.HTML object>"
      ]
     },
     "metadata": {},
     "output_type": "display_data"
    },
    {
     "data": {
      "text/plain": [
       "(<gradio.routes.App at 0x7fce074429d0>, 'http://127.0.0.1:7860/', None)"
      ]
     },
     "execution_count": 103,
     "metadata": {},
     "output_type": "execute_result"
    }
   ],
   "source": [
    "def greet(name, content, style, lambd):\n",
    "    salutation = \"Good morning\" if is_morning else \"Good evening\"\n",
    "    greeting = f\"{salutation} {name}. It is {temperature} degrees today\"\n",
    "    celsius = (temperature - 32) * 5 / 9\n",
    "    return greeting, round(celsius, 2)\n",
    "\n",
    "demo = gr.Interface(\n",
    "    fn=greet,\n",
    "    inputs=[\"text\", \"checkbox\", gr.Slider(0, 100)],\n",
    "    outputs=[\"text\", \"number\"],\n",
    ")\n",
    "demo.launch()"
   ]
  }
 ],
 "metadata": {
  "kernelspec": {
   "display_name": "Python 3.9.13 ('deep-learning')",
   "language": "python",
   "name": "python3"
  },
  "language_info": {
   "codemirror_mode": {
    "name": "ipython",
    "version": 3
   },
   "file_extension": ".py",
   "mimetype": "text/x-python",
   "name": "python",
   "nbconvert_exporter": "python",
   "pygments_lexer": "ipython3",
   "version": "3.9.13"
  },
  "vscode": {
   "interpreter": {
    "hash": "3d0f7b78603dc4dbd2d9202bb088bed685f1c0144738bfb4d7d4fba83f0e262d"
   }
  }
 },
 "nbformat": 4,
 "nbformat_minor": 2
}
