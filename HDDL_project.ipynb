{
 "cells": [
  {
   "cell_type": "markdown",
   "id": "846402ac",
   "metadata": {},
   "source": [
    "# Projet INSA 5 GMM 2022\n",
    "# Arbitrary Style Transfer in Real-time with Adaptive Instance Normalization\n",
    "Minh Hai Nguyen, Cam Thanh Ha Le, Julie Tryoen, Flavie Kolb "
   ]
  },
  {
   "cell_type": "code",
   "execution_count": null,
   "id": "7e7bca0d",
   "metadata": {},
   "outputs": [],
   "source": []
  },
  {
   "cell_type": "code",
   "execution_count": null,
   "id": "d6c70134",
   "metadata": {},
   "outputs": [],
   "source": []
  }
 ],
 "metadata": {
  "kernelspec": {
   "display_name": "Python 3 (ipykernel)",
   "language": "python",
   "name": "python3"
  },
  "language_info": {
   "codemirror_mode": {
    "name": "ipython",
    "version": 3
   },
   "file_extension": ".py",
   "mimetype": "text/x-python",
   "name": "python",
   "nbconvert_exporter": "python",
   "pygments_lexer": "ipython3",
   "version": "3.9.12"
  }
 },
 "nbformat": 4,
 "nbformat_minor": 5
}
